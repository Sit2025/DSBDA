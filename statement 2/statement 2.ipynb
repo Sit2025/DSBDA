{
 "cells": [
  {
   "cell_type": "code",
   "execution_count": 1,
   "id": "f35f8de1",
   "metadata": {},
   "outputs": [],
   "source": [
    "import pandas as pd"
   ]
  },
  {
   "cell_type": "code",
   "execution_count": 2,
   "id": "35bba0ee",
   "metadata": {},
   "outputs": [],
   "source": [
    "# assign dataset\n",
    "csvData = pd.read_csv(\"records.csv\")"
   ]
  },
  {
   "cell_type": "code",
   "execution_count": 3,
   "id": "e002d813",
   "metadata": {},
   "outputs": [
    {
     "name": "stdout",
     "output_type": "stream",
     "text": [
      "\n",
      "Before sorting:\n",
      "   ID    Name    Role  Salary\n",
      "0   1  Pankaj  Editor   10000\n",
      "1   2    Lisa  Editor    8000\n",
      "2   3   David  Author    6000\n",
      "3   4     Ram  Author    4000\n",
      "4   5  Anupam  Author    5000\n"
     ]
    }
   ],
   "source": [
    "# displaying unsorted data frame\n",
    "print(\"\\nBefore sorting:\")\n",
    "print(csvData)"
   ]
  },
  {
   "cell_type": "code",
   "execution_count": 5,
   "id": "73ed5432",
   "metadata": {},
   "outputs": [],
   "source": [
    "#sorting the dataset\n",
    "csvData.sort_values([\"Salary\"],axis=0, ascending=[True], inplace=True)"
   ]
  },
  {
   "cell_type": "code",
   "execution_count": 6,
   "id": "757ecc35",
   "metadata": {},
   "outputs": [
    {
     "name": "stdout",
     "output_type": "stream",
     "text": [
      "\n",
      "After sorting:\n",
      "   ID    Name    Role  Salary\n",
      "3   4     Ram  Author    4000\n",
      "4   5  Anupam  Author    5000\n",
      "2   3   David  Author    6000\n",
      "1   2    Lisa  Editor    8000\n",
      "0   1  Pankaj  Editor   10000\n"
     ]
    }
   ],
   "source": [
    "# displaying sorted data frame\n",
    "print(\"\\nAfter sorting:\")\n",
    "print(csvData)"
   ]
  },
  {
   "cell_type": "code",
   "execution_count": 7,
   "id": "51ff0f20",
   "metadata": {},
   "outputs": [],
   "source": [
    "# Transposing the dataset\n",
    "df = pd.read_csv('records.csv')"
   ]
  },
  {
   "cell_type": "code",
   "execution_count": 8,
   "id": "a92a6f92",
   "metadata": {},
   "outputs": [
    {
     "name": "stdout",
     "output_type": "stream",
     "text": [
      "   ID    Name    Role  Salary\n",
      "0   1  Pankaj  Editor   10000\n",
      "1   2    Lisa  Editor    8000\n",
      "2   3   David  Author    6000\n",
      "3   4     Ram  Author    4000\n",
      "4   5  Anupam  Author    5000\n"
     ]
    }
   ],
   "source": [
    "print(df)"
   ]
  },
  {
   "cell_type": "code",
   "execution_count": 9,
   "id": "52d39631",
   "metadata": {},
   "outputs": [
    {
     "name": "stdout",
     "output_type": "stream",
     "text": [
      "             0       1       2       3       4\n",
      "ID           1       2       3       4       5\n",
      "Name    Pankaj    Lisa   David     Ram  Anupam\n",
      "Role    Editor  Editor  Author  Author  Author\n",
      "Salary   10000    8000    6000    4000    5000\n"
     ]
    }
   ],
   "source": [
    "print(df.T)"
   ]
  },
  {
   "cell_type": "code",
   "execution_count": 10,
   "id": "5a15cbe7",
   "metadata": {},
   "outputs": [
    {
     "name": "stdout",
     "output_type": "stream",
     "text": [
      "(5, 4)\n"
     ]
    }
   ],
   "source": [
    "print(df.shape)"
   ]
  },
  {
   "cell_type": "code",
   "execution_count": 11,
   "id": "2d6fa670",
   "metadata": {},
   "outputs": [
    {
     "name": "stdout",
     "output_type": "stream",
     "text": [
      "20\n"
     ]
    }
   ],
   "source": [
    "print(df.size)"
   ]
  },
  {
   "cell_type": "code",
   "execution_count": 12,
   "id": "7d1a3999",
   "metadata": {},
   "outputs": [
    {
     "name": "stdout",
     "output_type": "stream",
     "text": [
      "   ID    Name    Role  Salary\n",
      "0   1  Pankaj  Editor   10000\n",
      "1   2    Lisa  Editor    8000\n",
      "2   3   David  Author    6000\n",
      "3   4     Ram  Author    4000\n",
      "4   5  Anupam  Author    5000\n"
     ]
    }
   ],
   "source": [
    "#shape of the data\n",
    "print(df)"
   ]
  },
  {
   "cell_type": "code",
   "execution_count": 13,
   "id": "181cf6eb",
   "metadata": {},
   "outputs": [
    {
     "name": "stdout",
     "output_type": "stream",
     "text": [
      "(5, 4)\n"
     ]
    }
   ],
   "source": [
    "print(df.shape)"
   ]
  },
  {
   "cell_type": "code",
   "execution_count": 14,
   "id": "ff43faec",
   "metadata": {},
   "outputs": [
    {
     "name": "stdout",
     "output_type": "stream",
     "text": [
      "20\n"
     ]
    }
   ],
   "source": [
    "print(df.size)"
   ]
  }
 ],
 "metadata": {
  "kernelspec": {
   "display_name": "Python 3 (ipykernel)",
   "language": "python",
   "name": "python3"
  },
  "language_info": {
   "codemirror_mode": {
    "name": "ipython",
    "version": 3
   },
   "file_extension": ".py",
   "mimetype": "text/x-python",
   "name": "python",
   "nbconvert_exporter": "python",
   "pygments_lexer": "ipython3",
   "version": "3.9.13"
  }
 },
 "nbformat": 4,
 "nbformat_minor": 5
}
